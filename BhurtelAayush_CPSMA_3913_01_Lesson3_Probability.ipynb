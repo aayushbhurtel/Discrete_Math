{
  "nbformat": 4,
  "nbformat_minor": 0,
  "metadata": {
    "colab": {
      "name": "BhurtelAayush_CPSMA-3913-01_Lesson3_Probability.ipynb",
      "provenance": [],
      "authorship_tag": "ABX9TyOVBqfpyGUYEf6sj930N3AV",
      "include_colab_link": true
    },
    "kernelspec": {
      "name": "python3",
      "display_name": "Python 3"
    },
    "language_info": {
      "name": "python"
    }
  },
  "cells": [
    {
      "cell_type": "markdown",
      "metadata": {
        "id": "view-in-github",
        "colab_type": "text"
      },
      "source": [
        "<a href=\"https://colab.research.google.com/github/aayushbhurtel/Discrete_Math/blob/main/BhurtelAayush_CPSMA_3913_01_Lesson3_Probability.ipynb\" target=\"_parent\"><img src=\"https://colab.research.google.com/assets/colab-badge.svg\" alt=\"Open In Colab\"/></a>"
      ]
    },
    {
      "cell_type": "markdown",
      "source": [
        "# Project Part 3# : CPSMA 3913 [Dr. Jacob's](https://github.com/nurfnick) Discrete Mathematics #\n",
        "\n",
        "## Probability and Counting\n",
        "\n",
        "### Aayush Bhurtel 271225\n",
        "\n",
        "\n",
        "\n",
        "\n"
      ],
      "metadata": {
        "id": "gZiaG6x_vfal"
      }
    },
    {
      "cell_type": "markdown",
      "source": [
        "#1. Probability\n",
        "\n",
        "Here, I am going to calculate a probability of rolling a dice.\n",
        "\n",
        "Probility of getting a even number is 3/6, multiple of 3 is 1/3 and getting a 3 is 1/6.\n",
        "\n"
      ],
      "metadata": {
        "id": "jVtC2_v7vyG1"
      }
    },
    {
      "cell_type": "code",
      "execution_count": 3,
      "metadata": {
        "colab": {
          "base_uri": "https://localhost:8080/"
        },
        "id": "Y_Gt0TSPu3oF",
        "outputId": "d64f3968-783a-409e-86eb-3233edad2ab3"
      },
      "outputs": [
        {
          "output_type": "execute_result",
          "data": {
            "text/plain": [
              "1.0"
            ]
          },
          "metadata": {},
          "execution_count": 3
        }
      ],
      "source": [
        "# Let P be probability then total probability of simple events is\n",
        "\n",
        "#P = [3/6,1/3,1/6] is same as below\n",
        "P = [1/2,1/3,1/6] \n",
        "\n",
        "# sum of P will ooutput 0.99999999999 so I am going to round it up to 1 using round method\n",
        "\n",
        "round(sum(P),1)"
      ]
    },
    {
      "cell_type": "markdown",
      "source": [
        "Compund event defn"
      ],
      "metadata": {
        "id": "jMiJNabGxTgh"
      }
    },
    {
      "cell_type": "markdown",
      "source": [
        ""
      ],
      "metadata": {
        "id": "79TsZa0uve1_"
      }
    }
  ]
}