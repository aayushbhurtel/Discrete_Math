{
  "nbformat": 4,
  "nbformat_minor": 0,
  "metadata": {
    "colab": {
      "name": "BhurtelAayush_CPSMA-3913-01_Lesson3_Probability.ipynb",
      "provenance": [],
      "authorship_tag": "ABX9TyNAm3ZuhMpF8V0wct15HSmo",
      "include_colab_link": true
    },
    "kernelspec": {
      "name": "python3",
      "display_name": "Python 3"
    },
    "language_info": {
      "name": "python"
    }
  },
  "cells": [
    {
      "cell_type": "markdown",
      "metadata": {
        "id": "view-in-github",
        "colab_type": "text"
      },
      "source": [
        "<a href=\"https://colab.research.google.com/github/aayushbhurtel/Discrete_Math/blob/main/BhurtelAayush_CPSMA_3913_01_Lesson3_Probability.ipynb\" target=\"_parent\"><img src=\"https://colab.research.google.com/assets/colab-badge.svg\" alt=\"Open In Colab\"/></a>"
      ]
    },
    {
      "cell_type": "markdown",
      "source": [
        "# Project Part 3# : CPSMA 3913 [Dr. Jacob's](https://github.com/nurfnick) Discrete Mathematics #\n",
        "\n",
        "## Probability and Counting\n",
        "\n",
        "### Aayush Bhurtel 271225\n",
        "\n",
        "\n",
        "\n",
        "\n"
      ],
      "metadata": {
        "id": "gZiaG6x_vfal"
      }
    },
    {
      "cell_type": "markdown",
      "source": [
        "#1. Probability\n",
        "\n",
        "Here, I am going to calculate a probability of rolling a dice.\n",
        "\n",
        "Probility of getting a even number is 3/6, multiple of 3 is 1/3 and getting a 3 is 1/6.\n",
        "\n"
      ],
      "metadata": {
        "id": "jVtC2_v7vyG1"
      }
    },
    {
      "cell_type": "code",
      "execution_count": 3,
      "metadata": {
        "colab": {
          "base_uri": "https://localhost:8080/"
        },
        "id": "Y_Gt0TSPu3oF",
        "outputId": "d64f3968-783a-409e-86eb-3233edad2ab3"
      },
      "outputs": [
        {
          "output_type": "execute_result",
          "data": {
            "text/plain": [
              "1.0"
            ]
          },
          "metadata": {},
          "execution_count": 3
        }
      ],
      "source": [
        "# Let P be probability then total probability of simple events is\n",
        "\n",
        "#P = [3/6,1/3,1/6] is same as below\n",
        "P = [1/2,1/3,1/6] \n",
        "\n",
        "# sum of P will ooutput 0.99999999999 so I am going to round it up to 1 using round method\n",
        "\n",
        "round(sum(P),1)"
      ]
    },
    {
      "cell_type": "markdown",
      "source": [
        "A compound event is getting another roll after the comeout roll so that would be a natural or setting the point. Let's call that roll A."
      ],
      "metadata": {
        "id": "jMiJNabGxTgh"
      }
    },
    {
      "cell_type": "code",
      "source": [
        "probabilityOfA = 0\n",
        "for i in [0,2]:\n",
        "  probabilityOfA += P[i]\n",
        "# again here I am rounding the answer of 0.66666666666 to 0.7 using round method\n",
        "round(probabilityOfA,1)"
      ],
      "metadata": {
        "colab": {
          "base_uri": "https://localhost:8080/"
        },
        "id": "HY8ty42VzyCR",
        "outputId": "d7f3218b-90b1-4cfe-c400-ccf0ee421dad"
      },
      "execution_count": 7,
      "outputs": [
        {
          "output_type": "execute_result",
          "data": {
            "text/plain": [
              "0.7"
            ]
          },
          "metadata": {},
          "execution_count": 7
        }
      ]
    },
    {
      "cell_type": "markdown",
      "source": [
        "Next I am going toward union and intersection of compound events. since I have one compound event already above, I am going to create a new compound event called B\n",
        "\n"
      ],
      "metadata": {
        "id": "F8s_W-kz1mYB"
      }
    },
    {
      "cell_type": "code",
      "source": [
        "probabilityOfB = P[0]"
      ],
      "metadata": {
        "id": "-8pKaEdg04-h"
      },
      "execution_count": 8,
      "outputs": []
    },
    {
      "cell_type": "markdown",
      "source": [
        "I am going to union and intersaction of these two events.\n",
        "\n",
        "$$\n",
        "Pr(A\\cup B) = Pr(A) + Pr(B) - Pr(A\\cap B)\n",
        "$$\n"
      ],
      "metadata": {
        "id": "SSmWE1Q42oIB"
      }
    },
    {
      "cell_type": "code",
      "source": [
        "AintersectB = P[0]\n",
        "AunionB = probabilityOfA+probabilityOfB-AintersectB\n",
        "AunionB"
      ],
      "metadata": {
        "colab": {
          "base_uri": "https://localhost:8080/"
        },
        "id": "WnwGlex-2nTx",
        "outputId": "7d7a21b6-b0de-4c40-8e59-065dc1e4aeb0"
      },
      "execution_count": 10,
      "outputs": [
        {
          "output_type": "execute_result",
          "data": {
            "text/plain": [
              "0.6666666666666665"
            ]
          },
          "metadata": {},
          "execution_count": 10
        }
      ]
    },
    {
      "cell_type": "markdown",
      "source": [
        "Now I am going to calculate the conditional probability of a getting an even number in a roll.\n",
        "\n",
        "$$\n",
        "P(B|A)=\\frac{P(A\\cap B)}{P(A)}\n",
        "$$"
      ],
      "metadata": {
        "id": "ldZfszSu4LvF"
      }
    },
    {
      "cell_type": "code",
      "source": [
        "1/2/probabilityOfA"
      ],
      "metadata": {
        "colab": {
          "base_uri": "https://localhost:8080/"
        },
        "id": "6hzow6w23bqD",
        "outputId": "8eea9409-20c8-4c64-b22b-1760225ef78f"
      },
      "execution_count": 11,
      "outputs": [
        {
          "output_type": "execute_result",
          "data": {
            "text/plain": [
              "0.75"
            ]
          },
          "metadata": {},
          "execution_count": 11
        }
      ]
    },
    {
      "cell_type": "markdown",
      "source": [
        "conditional probability of an event B is the probability that the event will occur since A has already occured. This probability is written P(B|A).\n",
        "\n",
        "I am going to use Bayes' theorem to verify the result. Bayes' theorem is a mathematical formula used to determine the conditional probability of events.\n",
        "\n",
        "$$\n",
        "P(A|B)=\\frac{P(B|A) * P(A)}{P(B)}\n",
        "$$"
      ],
      "metadata": {
        "id": "oZGqWcl67NS8"
      }
    },
    {
      "cell_type": "code",
      "source": [
        "conditionalProbAB = (1/2/probabilityOfA * probabilityOfA)/ probabilityOfB\n",
        "conditionalProbAB"
      ],
      "metadata": {
        "colab": {
          "base_uri": "https://localhost:8080/"
        },
        "id": "IbdS_DiO7L2Z",
        "outputId": "a88a1e2c-669f-4287-bf44-8088b71ade77"
      },
      "execution_count": 22,
      "outputs": [
        {
          "output_type": "execute_result",
          "data": {
            "text/plain": [
              "1.0"
            ]
          },
          "metadata": {},
          "execution_count": 22
        }
      ]
    },
    {
      "cell_type": "markdown",
      "source": [
        "now we calculate the condition of probability of P(B|A) to prove that the output is 0.75 as we got it in the 11th cell."
      ],
      "metadata": {
        "id": "TmgvDDLC9s64"
      }
    },
    {
      "cell_type": "code",
      "source": [
        "conditionalProbBA = (conditionalProbAB * probabilityOfB)/probabilityOfA\n",
        "conditionalProbBA"
      ],
      "metadata": {
        "colab": {
          "base_uri": "https://localhost:8080/"
        },
        "id": "H2GO1wN-9BWV",
        "outputId": "6b6f143b-c5e3-423a-d965-71740b17a355"
      },
      "execution_count": 21,
      "outputs": [
        {
          "output_type": "execute_result",
          "data": {
            "text/plain": [
              "0.75"
            ]
          },
          "metadata": {},
          "execution_count": 21
        }
      ]
    },
    {
      "cell_type": "markdown",
      "source": [
        "#(e) Compute the probability of the complement of an event.\n",
        "\n",
        "Now I am going to calculate the probability of the complement of rolling less then 5 in a dice. For this, formula is \n",
        "\n",
        "\n",
        "P' = 1 - P\n",
        "\n",
        "In this case, P' be the compliment of rolling dice less then 5 and P be the probability of rolling a number less then 5.\n",
        "\n",
        "P(rolling number less then 5) = 4/6 = 2/3\n"
      ],
      "metadata": {
        "id": "IOxvhcoG-oSC"
      }
    },
    {
      "cell_type": "code",
      "source": [
        "1 - 2/3"
      ],
      "metadata": {
        "colab": {
          "base_uri": "https://localhost:8080/"
        },
        "id": "XQ4v-XmF-EAw",
        "outputId": "d0856674-a52a-492b-9411-3df8a8be8401"
      },
      "execution_count": 23,
      "outputs": [
        {
          "output_type": "execute_result",
          "data": {
            "text/plain": [
              "0.33333333333333337"
            ]
          },
          "metadata": {},
          "execution_count": 23
        }
      ]
    },
    {
      "cell_type": "code",
      "source": [
        "1/3"
      ],
      "metadata": {
        "id": "mSxPMf2U_pMW"
      },
      "execution_count": null,
      "outputs": []
    },
    {
      "cell_type": "markdown",
      "source": [
        "# (f) Simulate a simple occurrence of your sample space 10 times. Pick an event, does the simulation give you exactly the same probability as your assignment? Explain why or why not"
      ],
      "metadata": {
        "id": "JtsMAgRqAA0L"
      }
    },
    {
      "cell_type": "code",
      "source": [
        ""
      ],
      "metadata": {
        "id": "qfoOlFvM_rNi"
      },
      "execution_count": null,
      "outputs": []
    }
  ]
}