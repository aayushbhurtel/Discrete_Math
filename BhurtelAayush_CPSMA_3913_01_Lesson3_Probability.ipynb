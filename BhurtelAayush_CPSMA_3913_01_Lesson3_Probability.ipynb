{
  "nbformat": 4,
  "nbformat_minor": 0,
  "metadata": {
    "colab": {
      "name": "BhurtelAayush_CPSMA-3913-01_Lesson3_Probability.ipynb",
      "provenance": [],
      "authorship_tag": "ABX9TyP3GXlgi62HXhNu2qF3NW03",
      "include_colab_link": true
    },
    "kernelspec": {
      "name": "python3",
      "display_name": "Python 3"
    },
    "language_info": {
      "name": "python"
    }
  },
  "cells": [
    {
      "cell_type": "markdown",
      "metadata": {
        "id": "view-in-github",
        "colab_type": "text"
      },
      "source": [
        "<a href=\"https://colab.research.google.com/github/aayushbhurtel/Discrete_Math/blob/main/BhurtelAayush_CPSMA_3913_01_Lesson3_Probability.ipynb\" target=\"_parent\"><img src=\"https://colab.research.google.com/assets/colab-badge.svg\" alt=\"Open In Colab\"/></a>"
      ]
    },
    {
      "cell_type": "code",
      "execution_count": null,
      "metadata": {
        "id": "Y_Gt0TSPu3oF"
      },
      "outputs": [],
      "source": [
        ""
      ]
    }
  ]
}