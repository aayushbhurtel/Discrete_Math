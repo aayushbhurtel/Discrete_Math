{
  "nbformat": 4,
  "nbformat_minor": 0,
  "metadata": {
    "colab": {
      "name": "BhurtelAayush_CPSMA3913_ 01_Module8#_Proof.ipynb",
      "provenance": [],
      "authorship_tag": "ABX9TyNIOHXL3GSMgUk4vmEcD/WA",
      "include_colab_link": true
    },
    "kernelspec": {
      "name": "python3",
      "display_name": "Python 3"
    },
    "language_info": {
      "name": "python"
    }
  },
  "cells": [
    {
      "cell_type": "markdown",
      "metadata": {
        "id": "view-in-github",
        "colab_type": "text"
      },
      "source": [
        "<a href=\"https://colab.research.google.com/github/aayushbhurtel/Discrete_Math/blob/main/BhurtelAayush_CPSMA3913__01_Module8__Proof.ipynb\" target=\"_parent\"><img src=\"https://colab.research.google.com/assets/colab-badge.svg\" alt=\"Open In Colab\"/></a>"
      ]
    },
    {
      "cell_type": "markdown",
      "source": [
        "# Project Part # 4 : CPSMA 3133  [Dr. Jacob's](https://github.com/nurfnick/Discrete_Math) Discrete Mathematics\n",
        "#Aayush Bhurtel \n",
        "#Proof\n"
      ],
      "metadata": {
        "id": "cgB8SzoE3oEp"
      }
    },
    {
      "cell_type": "markdown",
      "source": [
        "Q. Typeset a small proof\n",
        "\n",
        "\n",
        "(a) Create a linear equation y = mx + b by assigning non-zero values to m and b. Graph this function.\n",
        "\n",
        "\n",
        "(b) Write a proof of the statement\n",
        "(0, b) is the y-intercept for the function y = mx + b"
      ],
      "metadata": {
        "id": "7-RWKYPd38mE"
      }
    },
    {
      "cell_type": "code",
      "execution_count": 16,
      "metadata": {
        "colab": {
          "base_uri": "https://localhost:8080/"
        },
        "id": "81W3Uiqw3PTo",
        "outputId": "06ef5ccc-ddd3-46d1-fbfb-02c6f98746f8"
      },
      "outputs": [
        {
          "output_type": "stream",
          "name": "stdout",
          "text": [
            "y = 8x + 5\n"
          ]
        }
      ],
      "source": [
        "# let me create a linear equation with random number in m and b not including zero\n",
        "import random\n",
        "\n",
        "m = random.randrange(2,9)\n",
        "b = random.randrange(2,9)\n",
        "\n",
        "print('y = ' + str(m) + 'x + ' + str(b))"
      ]
    },
    {
      "cell_type": "markdown",
      "source": [
        "now I will graph this function using myplotlab and numpy"
      ],
      "metadata": {
        "id": "8YNcEmyq5n8Y"
      }
    },
    {
      "cell_type": "code",
      "source": [
        "import matplotlib.pyplot as plt\n",
        "import numpy as np\n",
        "\n",
        "x = np.arange(-5,2,.1) #first value, last value, stepsize = .1\n",
        "\n",
        "plt.plot(x, m*x+b, '-r')\n",
        "plt.title('Graph of  y = ' + str(m) + 'x + ' + str(b))\n",
        "plt.show()\n"
      ],
      "metadata": {
        "colab": {
          "base_uri": "https://localhost:8080/",
          "height": 281
        },
        "id": "LcP5XhbC4jRM",
        "outputId": "b6b9ba37-e7a5-416f-8323-42d9838ef3bc"
      },
      "execution_count": 26,
      "outputs": [
        {
          "output_type": "display_data",
          "data": {
            "image/png": "[encoded data removed]",
            "text/plain": [
              "<Figure size 432x288 with 1 Axes>"
            ]
          },
          "metadata": {
            "needs_background": "light"
          }
        }
      ]
    },
    {
      "cell_type": "markdown",
      "source": [
        "Here, it looks like regular straight line but look at the values we start with in the bottom left corner, -30 and -5.\n",
        "\n",
        "now for the proof part, we gotta prove that (0, b) is the y-intercept of for our function.\n",
        "\n",
        "the y-intercept is the point where our linear equation crosses the y-axis. \n",
        "\n",
        "From our equation, we can get the y-intercept as (0,5). \n",
        "\n",
        "let us prove that,"
      ],
      "metadata": {
        "id": "aUpK3cvo8Bwk"
      }
    },
    {
      "cell_type": "code",
      "source": [
        "# let x  = 0\n",
        "x = 0\n",
        "y = m * x + b\n",
        "\n",
        "# lets check if the value of b is same as 5 or not\n",
        "if( y == 5):\n",
        "  print(\"proved!\")\n",
        "else:\n",
        "  print(\"wrong!\")"
      ],
      "metadata": {
        "colab": {
          "base_uri": "https://localhost:8080/"
        },
        "id": "podMSpUD7919",
        "outputId": "124f5238-0649-4a1a-a441-314664e5aecb"
      },
      "execution_count": 28,
      "outputs": [
        {
          "output_type": "stream",
          "name": "stdout",
          "text": [
            "proved!\n"
          ]
        }
      ]
    },
    {
      "cell_type": "markdown",
      "source": [
        "Describe your findings in words.\n",
        "\n",
        "=> I used myplotlab and numpy to plot the generated linear equation with y-intercept and x-intercept. This project helped me to revisit to plot graph using numpy and myplotlab.\n",
        "\n",
        "Discuss the steps in your proof. Remember finding a value is different from proving that value\n",
        "works.\n",
        "\n",
        "=> Firstly, I created a linear equation using random library to randomly generate non zero slope and b values. \n",
        "\n",
        "next, I used myplotlab and numpy to plot this linear equation. arrange method of numpy to display the range and plot method from myplotlab to plot the actual linear equation by passing the equation values as an argument into plot method. Then I created a title and show() method finally displayed the graph.\n",
        "\n",
        "After that, I proved y-intercept of my equation by setting x into 0 and getting the value of y which is same as the value of b."
      ],
      "metadata": {
        "id": "Sjw0IBdgAafk"
      }
    }
  ]
}