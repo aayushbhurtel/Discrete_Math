{
  "nbformat": 4,
  "nbformat_minor": 0,
  "metadata": {
    "colab": {
      "name": "BhurtelAayush_CPSMA-3913-01_Lesson1_Sets.ipynb",
      "provenance": [],
      "authorship_tag": "ABX9TyMCF6RIpmvPKwvo7D8w1bBl",
      "include_colab_link": true
    },
    "kernelspec": {
      "name": "python3",
      "display_name": "Python 3"
    },
    "language_info": {
      "name": "python"
    }
  },
  "cells": [
    {
      "cell_type": "markdown",
      "metadata": {
        "id": "view-in-github",
        "colab_type": "text"
      },
      "source": [
        "<a href=\"https://colab.research.google.com/github/aayushbhurtel/Discrete_Math/blob/main/BhurtelAayush_CPSMA_3913_01_Lesson1_Sets.ipynb\" target=\"_parent\"><img src=\"https://colab.research.google.com/assets/colab-badge.svg\" alt=\"Open In Colab\"/></a>"
      ]
    },
    {
      "cell_type": "markdown",
      "source": [
        "# Project Part # : CPSMA 3913 \n",
        "#[Dr. Jacob's](https://github.com/nurfnick) Discrete Mathematics #\n",
        "\n",
        "## Sets\n",
        "\n",
        "### Aayush Bhurtel 271225\n",
        "\n",
        "\n"
      ],
      "metadata": {
        "id": "Gjk8N4TawATo"
      }
    },
    {
      "cell_type": "markdown",
      "source": [
        "# 1 Sets"
      ],
      "metadata": {
        "id": "yjL-cF9csffa"
      }
    },
    {
      "cell_type": "markdown",
      "source": [
        "I am going to list a characters from a \"West World\" series from HBO.\n",
        "\n",
        "Set $A$ will be characters from the first season.  Set $B$ will be characters from season two. Set $C$ will be characters from season three.\n",
        "\n",
        "![West World](https://metro.co.uk/wp-content/uploads/2018/03/westworld-new-trailer.jpg)"
      ],
      "metadata": {
        "id": "_1CTlm6j3O5S"
      }
    },
    {
      "cell_type": "code",
      "execution_count": 4,
      "metadata": {
        "id": "G_C7W7Teu57A"
      },
      "outputs": [],
      "source": [
        "seasonOneCharacters = {'Dolores Abernathy', 'Maeve Millay', 'Bernard Lowe', 'Teddy Flood', 'Sylvester', 'Felix Lutz' }\n",
        "seasonTwoCharacters = {'Dolores Abernathy', 'Maeve Millay', 'Bernard Lowe', 'Teddy Flood', 'Felix Lutz', 'Logan Delos' }\n",
        "seasonThreeCharacters = {'Dolores Abernathy', 'Maeve Millay', 'Bernard Lowe','Ashley Stubbs', 'Clementine Pennyfeather', 'Lee Sizemore' }"
      ]
    },
    {
      "cell_type": "markdown",
      "source": [
        "My Universal Set $U$ will contain all the characters from all three seasons.\n",
        "\n",
        "Python data structure is used to deal with the set. Union and intersection is built in python."
      ],
      "metadata": {
        "id": "RQGEjJqG7nDU"
      }
    },
    {
      "cell_type": "markdown",
      "source": [
        "Here I will create a Universal Set U which contains all characters from season one, two and three. I will create a empty list for variable U, create a nested loop for each characters in three seasons and append each character into the list."
      ],
      "metadata": {
        "id": "Tbz4xMuZMoqk"
      }
    },
    {
      "cell_type": "code",
      "source": [
        "allSets = [seasonOneCharacters, seasonTwoCharacters, seasonThreeCharacters]\n",
        "U = []\n",
        "for sett in allSets:\n",
        "  for characters in sett:\n",
        "    U.append(characters)\n",
        "U"
      ],
      "metadata": {
        "id": "VNgVLvnLJbq0"
      },
      "execution_count": null,
      "outputs": []
    },
    {
      "cell_type": "markdown",
      "source": [
        "Here are more characters that are not included in season one, two or three above but is included in the Universal set. I loop through the characters and append each one into the Universal list."
      ],
      "metadata": {
        "id": "4DkQ5U61NIGq"
      }
    },
    {
      "cell_type": "code",
      "source": [
        "moreCharacters = {'Evan Wood', 'Thandiwe Newton', 'Jeffrey Wright', 'James Marsden', 'Ingrid Bolsø Berdal', 'Luke Hemsworth'}\n",
        "for characters in moreCharacters:\n",
        "  U.append(characters)\n",
        "\n",
        "U"
      ],
      "metadata": {
        "colab": {
          "base_uri": "https://localhost:8080/"
        },
        "id": "HQKeZdv7Lu0k",
        "outputId": "300c5f3a-5ab1-4ca3-c0ae-5e8b34c1a6f7"
      },
      "execution_count": 55,
      "outputs": [
        {
          "output_type": "execute_result",
          "data": {
            "text/plain": [
              "['Bernard Lowe',\n",
              " 'Dolores Abernathy',\n",
              " 'Maeve Millay',\n",
              " 'Sylvester',\n",
              " 'Felix Lutz',\n",
              " 'Teddy Flood',\n",
              " 'Bernard Lowe',\n",
              " 'Dolores Abernathy',\n",
              " 'Maeve Millay',\n",
              " 'Logan Delos',\n",
              " 'Felix Lutz',\n",
              " 'Teddy Flood',\n",
              " 'Bernard Lowe',\n",
              " 'Dolores Abernathy',\n",
              " 'Maeve Millay',\n",
              " 'Lee Sizemore',\n",
              " 'Ashley Stubbs',\n",
              " 'Clementine Pennyfeather',\n",
              " 'Evan Wood',\n",
              " 'Thandiwe Newton',\n",
              " 'Ingrid Bolsø Berdal',\n",
              " 'Luke Hemsworth',\n",
              " 'Jeffrey Wright',\n",
              " 'James Marsden',\n",
              " 'Evan Wood',\n",
              " 'Thandiwe Newton',\n",
              " 'Ingrid Bolsø Berdal',\n",
              " 'Luke Hemsworth',\n",
              " 'Jeffrey Wright',\n",
              " 'James Marsden',\n",
              " 'Evan Wood',\n",
              " 'Thandiwe Newton',\n",
              " 'Ingrid Bolsø Berdal',\n",
              " 'Luke Hemsworth',\n",
              " 'Jeffrey Wright',\n",
              " 'James Marsden']"
            ]
          },
          "metadata": {},
          "execution_count": 55
        }
      ]
    },
    {
      "cell_type": "markdown",
      "source": [
        "\n",
        "This block is for:\n",
        "\n",
        "  (**seasonOneCharacters U seasonTwoCharacters**)\n"
      ],
      "metadata": {
        "id": "TbZC3Q-JNrUW"
      }
    },
    {
      "cell_type": "code",
      "source": [
        "seasonOneCharacters.union(seasonTwoCharacters)"
      ],
      "metadata": {
        "colab": {
          "base_uri": "https://localhost:8080/"
        },
        "id": "8l0C4FZ576Ps",
        "outputId": "7d6c2e4a-0234-4500-f906-792b8fc693a8"
      },
      "execution_count": 18,
      "outputs": [
        {
          "output_type": "execute_result",
          "data": {
            "text/plain": [
              "{'Bernard Lowe',\n",
              " 'Dolores Abernathy',\n",
              " 'Felix Lutz',\n",
              " 'Logan Delos',\n",
              " 'Maeve Millay',\n",
              " 'Sylvester',\n",
              " 'Teddy Flood'}"
            ]
          },
          "metadata": {},
          "execution_count": 18
        }
      ]
    },
    {
      "cell_type": "markdown",
      "source": [
        "This block is for:\n",
        "\n",
        "(**seasonOneCharacters U seasonThreeCharacters**)"
      ],
      "metadata": {
        "id": "pLYah6Lm87g_"
      }
    },
    {
      "cell_type": "code",
      "source": [
        "seasonOneCharacters.union(seasonThreeCharacters)"
      ],
      "metadata": {
        "colab": {
          "base_uri": "https://localhost:8080/"
        },
        "id": "QgwekzG_9D91",
        "outputId": "9386066d-910e-44d0-eeed-ffc8e7c9325e"
      },
      "execution_count": 19,
      "outputs": [
        {
          "output_type": "execute_result",
          "data": {
            "text/plain": [
              "{'Ashley Stubbs',\n",
              " 'Bernard Lowe',\n",
              " 'Clementine Pennyfeather',\n",
              " 'Dolores Abernathy',\n",
              " 'Felix Lutz',\n",
              " 'Lee Sizemore',\n",
              " 'Maeve Millay',\n",
              " 'Sylvester',\n",
              " 'Teddy Flood'}"
            ]
          },
          "metadata": {},
          "execution_count": 19
        }
      ]
    },
    {
      "cell_type": "markdown",
      "source": [
        "This Block is for : \n",
        "\n",
        "(**seasonTwoCharacters U seasonThreeCharacters**)"
      ],
      "metadata": {
        "id": "OkPpXiUNOPfr"
      }
    },
    {
      "cell_type": "code",
      "source": [
        "seasonTwoCharacters.union(seasonThreeCharacters)"
      ],
      "metadata": {
        "colab": {
          "base_uri": "https://localhost:8080/"
        },
        "id": "Jb3rTemROUM5",
        "outputId": "d4a80607-5489-4e20-bb84-39055305217b"
      },
      "execution_count": 23,
      "outputs": [
        {
          "output_type": "execute_result",
          "data": {
            "text/plain": [
              "{'Ashley Stubbs',\n",
              " 'Bernard Lowe',\n",
              " 'Clementine Pennyfeather',\n",
              " 'Dolores Abernathy',\n",
              " 'Felix Lutz',\n",
              " 'Lee Sizemore',\n",
              " 'Logan Delos',\n",
              " 'Maeve Millay',\n",
              " 'Teddy Flood'}"
            ]
          },
          "metadata": {},
          "execution_count": 23
        }
      ]
    },
    {
      "cell_type": "markdown",
      "source": [
        "This Block is for: \n",
        "\n",
        "(**seasonOneCharacters ∩ seasonTwoCharacters**)"
      ],
      "metadata": {
        "id": "WMAsxauqOXjP"
      }
    },
    {
      "cell_type": "code",
      "source": [
        "seasonOneCharacters.intersection(seasonTwoCharacters)"
      ],
      "metadata": {
        "colab": {
          "base_uri": "https://localhost:8080/"
        },
        "id": "FaOt5QUEOs7U",
        "outputId": "b9f9b2df-02e6-4e01-8d68-d115f9df75a9"
      },
      "execution_count": 22,
      "outputs": [
        {
          "output_type": "execute_result",
          "data": {
            "text/plain": [
              "{'Bernard Lowe',\n",
              " 'Dolores Abernathy',\n",
              " 'Felix Lutz',\n",
              " 'Maeve Millay',\n",
              " 'Teddy Flood'}"
            ]
          },
          "metadata": {},
          "execution_count": 22
        }
      ]
    },
    {
      "cell_type": "markdown",
      "source": [
        "This Block is for: \n",
        "\n",
        "(**seasonTwoCharacters ∩ seasonThreeCharacters**)"
      ],
      "metadata": {
        "id": "y_iza0P2OguS"
      }
    },
    {
      "cell_type": "code",
      "source": [
        "seasonTwoCharacters.intersection(seasonThreeCharacters)"
      ],
      "metadata": {
        "colab": {
          "base_uri": "https://localhost:8080/"
        },
        "id": "eVHciIh0OwHN",
        "outputId": "50c76240-7f71-47ce-b3d6-89a1babd3b90"
      },
      "execution_count": 21,
      "outputs": [
        {
          "output_type": "execute_result",
          "data": {
            "text/plain": [
              "{'Bernard Lowe', 'Dolores Abernathy', 'Maeve Millay'}"
            ]
          },
          "metadata": {},
          "execution_count": 21
        }
      ]
    },
    {
      "cell_type": "markdown",
      "source": [
        "This Block is for: \n",
        "\n",
        "(**seasonOneCharacters ∩ seasonThreeCharacters**)"
      ],
      "metadata": {
        "id": "Egpmx3BpOhLn"
      }
    },
    {
      "cell_type": "code",
      "source": [
        "seasonOneCharacters.intersection(seasonThreeCharacters)"
      ],
      "metadata": {
        "colab": {
          "base_uri": "https://localhost:8080/"
        },
        "id": "ABDc0V-3Oy8p",
        "outputId": "9aab5e50-4a19-4d41-8e18-eb764c605e84"
      },
      "execution_count": 20,
      "outputs": [
        {
          "output_type": "execute_result",
          "data": {
            "text/plain": [
              "{'Bernard Lowe', 'Dolores Abernathy', 'Maeve Millay'}"
            ]
          },
          "metadata": {},
          "execution_count": 20
        }
      ]
    },
    {
      "cell_type": "markdown",
      "source": [
        "Is there any\n",
        "difference in which set is called first, why or why not?\n",
        "\n",
        "=> No, it does not matter what set is called first. It is because while doing intersection or union between any two sets, whatever be their order, union or intersection is always the same."
      ],
      "metadata": {
        "id": "p8ZIoHYORG54"
      }
    },
    {
      "cell_type": "markdown",
      "source": [
        "Now we compute the complements of **seasonOneCharacters**. We do this by using **not in** in a nested loop."
      ],
      "metadata": {
        "id": "Wlx3qq_wSPEU"
      }
    },
    {
      "cell_type": "code",
      "source": [
        "seasonOneCharactersComplement = []\n",
        "\n",
        "for characters in U:\n",
        "  if characters not in seasonOneCharacters:\n",
        "    seasonOneCharactersComplement.append(characters)\n",
        "seasonOneCharactersComplement"
      ],
      "metadata": {
        "id": "383kx5mZShzs"
      },
      "execution_count": null,
      "outputs": []
    },
    {
      "cell_type": "markdown",
      "source": [
        "**seasonTwoCharacters** complement"
      ],
      "metadata": {
        "id": "aKlV3O_mS3Gk"
      }
    },
    {
      "cell_type": "code",
      "source": [
        "seasonTwoCharactersComplement = []\n",
        "\n",
        "for characters in U:\n",
        "  if characters not in seasonTwoCharacters:\n",
        "    seasonTwoCharactersComplement.append(characters)\n",
        "seasonTwoCharactersComplement"
      ],
      "metadata": {
        "id": "lVOjrs-RS_T3"
      },
      "execution_count": null,
      "outputs": []
    },
    {
      "cell_type": "markdown",
      "source": [
        "**SeasonThreeCharacters** Complement"
      ],
      "metadata": {
        "id": "W4pFynD6TGS6"
      }
    },
    {
      "cell_type": "code",
      "source": [
        "seasonThreeCharactersComplement = []\n",
        "\n",
        "for characters in U:\n",
        "  if characters not in seasonThreeCharacters:\n",
        "    seasonThreeCharactersComplement.append(characters)\n",
        "seasonThreeCharactersComplement"
      ],
      "metadata": {
        "id": "SkAv-l-6TLko"
      },
      "execution_count": null,
      "outputs": []
    },
    {
      "cell_type": "markdown",
      "source": [
        "(**seaonOneCharactersUseasonTwoCharacters**) complement"
      ],
      "metadata": {
        "id": "MiAyndSyTqPH"
      }
    },
    {
      "cell_type": "code",
      "source": [
        "oneUnionTwo = []\n",
        "\n",
        "for characters in U:\n",
        "  if characters not in seasonOneCharacters.union(seasonTwoCharacters):\n",
        "    oneUnionTwo.append(characters)\n",
        "\n",
        "oneUnionTwo"
      ],
      "metadata": {
        "id": "c25-ieOVT0eu"
      },
      "execution_count": null,
      "outputs": []
    },
    {
      "cell_type": "markdown",
      "source": [
        "Subsets\n",
        "\n",
        "Check if one set is a subset of another set. Here we use a builtin python function to check for subset."
      ],
      "metadata": {
        "id": "JIiufMH6Vswc"
      }
    },
    {
      "cell_type": "code",
      "source": [
        "seasonOneCharacters.issubset(seasonTwoCharacters)"
      ],
      "metadata": {
        "colab": {
          "base_uri": "https://localhost:8080/"
        },
        "id": "EI53gTNjVtsY",
        "outputId": "a65c59eb-cf08-438c-c6f9-7d2579961156"
      },
      "execution_count": 32,
      "outputs": [
        {
          "output_type": "execute_result",
          "data": {
            "text/plain": [
              "False"
            ]
          },
          "metadata": {},
          "execution_count": 32
        }
      ]
    },
    {
      "cell_type": "markdown",
      "source": [
        "Power set of **seasonOneCharacters**\n",
        "\n"
      ],
      "metadata": {
        "id": "HOFMkwRlUWqK"
      }
    },
    {
      "cell_type": "code",
      "source": [
        "def DPpowerset(s):\n",
        "  powerset = [[]]\n",
        "  for i in s:\n",
        "    for sett in powerset:\n",
        "      powerset = powerset + [sett + [i]]\n",
        "  return powerset"
      ],
      "metadata": {
        "id": "Z3x5WPMGUaBF"
      },
      "execution_count": 51,
      "outputs": []
    },
    {
      "cell_type": "code",
      "source": [
        "DPpowerset(seasonOneCharacters)"
      ],
      "metadata": {
        "id": "TAO6fa8HU_AA"
      },
      "execution_count": null,
      "outputs": []
    },
    {
      "cell_type": "markdown",
      "source": [
        "compute the elements of a power set of Universal set (U)"
      ],
      "metadata": {
        "id": "4s4UrbEKWWDO"
      }
    },
    {
      "cell_type": "code",
      "source": [
        "len(DPpowerset(U))"
      ],
      "metadata": {
        "id": "B_Nuge9nY5zw"
      },
      "execution_count": null,
      "outputs": []
    },
    {
      "cell_type": "markdown",
      "source": [
        "Describe your findings in words.\n",
        "\n",
        "Doing power set of any size set is very easy and efficient using python. It would take lot of time and energy for a person to compute a power set of any set with hand. It would be time consuming and prone to errors. \n",
        "\n",
        "computing a lenght of power set of Universal set was difficult for me and I could not figure out why. I still cannot compute the lenght of Universal set."
      ],
      "metadata": {
        "id": "lM3JVyfnZtkv"
      }
    }
  ]
}