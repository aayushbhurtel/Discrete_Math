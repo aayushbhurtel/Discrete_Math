{
  "nbformat": 4,
  "nbformat_minor": 0,
  "metadata": {
    "colab": {
      "name": "BhurtelAayush_CPSMA3913_Lesson2_Relations.ipynb",
      "provenance": [],
      "authorship_tag": "ABX9TyN47gwMlt9Scs3yQatU1LGS",
      "include_colab_link": true
    },
    "kernelspec": {
      "name": "python3",
      "display_name": "Python 3"
    },
    "language_info": {
      "name": "python"
    }
  },
  "cells": [
    {
      "cell_type": "markdown",
      "metadata": {
        "id": "view-in-github",
        "colab_type": "text"
      },
      "source": [
        "<a href=\"https://colab.research.google.com/github/aayushbhurtel/Discrete_Math/blob/main/BhurtelAayush_CPSMA3913_Lesson2_Relations.ipynb\" target=\"_parent\"><img src=\"https://colab.research.google.com/assets/colab-badge.svg\" alt=\"Open In Colab\"/></a>"
      ]
    },
    {
      "cell_type": "markdown",
      "source": [
        "# Project #2 : CPSMA 3133 Discrete Mathematics\n",
        "## Relations and Functions\n",
        "## Aayush Bhurtel"
      ],
      "metadata": {
        "id": "PDCf4NNV6mwh"
      }
    },
    {
      "cell_type": "markdown",
      "source": [
        "#1. Functions\n",
        "\n",
        "Here, I decided to use Quadratic function which is displayed below using LATEX code in the markdown environment.\n",
        "\n",
        "$$\n",
        "f(x)=\\frac{-b\\pm\\sqrt{b^2-4ac}}{2a}\n",
        "$$"
      ],
      "metadata": {
        "id": "3u302tdX6yXv"
      }
    },
    {
      "cell_type": "markdown",
      "source": [
        "Next part I am using `math` and numpy `numpy` or `np` library to calculate this function. first, I will load both packages and create a function."
      ],
      "metadata": {
        "id": "QV3ZfYHp-rGH"
      }
    },
    {
      "cell_type": "code",
      "source": [
        "import math\n",
        "import numpy as np\n",
        "\n",
        "def quadratic(a, b, c):\n",
        "  discriminant = math.sqrt(b*b - 4*a*c)\n",
        "  if discriminant >=0:\n",
        "    x1 = (-b+discriminant)/(2*a)\n",
        "    x2 = (-b-discriminant)/(2*a)\n",
        "    return print(\"The roots of the equation are:\", x1, x2)\n",
        "  else:\n",
        "    return print(\"The equation has no solutions\")"
      ],
      "metadata": {
        "id": "GL9Ik5Vs_RPP"
      },
      "execution_count": null,
      "outputs": []
    },
    {
      "cell_type": "markdown",
      "source": [
        "I am passing an actual argument to my funtion to test it."
      ],
      "metadata": {
        "id": "4UD2F4d2TA-K"
      }
    },
    {
      "cell_type": "code",
      "execution_count": null,
      "metadata": {
        "id": "FdjsHrjZ5AZ2",
        "colab": {
          "base_uri": "https://localhost:8080/"
        },
        "outputId": "152d3a0a-6840-4fb7-cc55-3107abd97050"
      },
      "outputs": [
        {
          "output_type": "stream",
          "name": "stdout",
          "text": [
            "The roots of the equation are: 7.0 -2.0\n"
          ]
        }
      ],
      "source": [
        "quadratic(1,-5,-14)"
      ]
    },
    {
      "cell_type": "markdown",
      "source": [
        "Since my function clearly works, I am going to graph it using matplotlib and numpy. My range is [-20,20]. I have used a built in functions from matplotlib and integer values of a, b and c. This way we can create a graph of functions using matplotlib."
      ],
      "metadata": {
        "id": "iALKJq7vTJBP"
      }
    },
    {
      "cell_type": "code",
      "source": [
        "import matplotlib.pyplot as plt\n",
        "plt.style.use(\"dark_background\")\n",
        "\n",
        "a = 1\n",
        "b= -5\n",
        "c = -14\n",
        "\n",
        "x = np.arange(-20,20,0.1)\n",
        "\n",
        "# Calculate the y value for each x value\n",
        "y = a * x ** 2 + b * x + c\n",
        "\n",
        "plt.plot(x, y)\n",
        "plt.title(\"Quadratic Function\")\n",
        "plt.xlabel(\"Values of x\")\n",
        "plt.ylabel(\"Values of y\")\n",
        "plt.show()"
      ],
      "metadata": {
        "colab": {
          "base_uri": "https://localhost:8080/",
          "height": 295
        },
        "id": "Ykrw5NXZyofS",
        "outputId": "30fc6752-9d5b-4851-dfa6-abf58bcfe9c3"
      },
      "execution_count": null,
      "outputs": [
        {
          "output_type": "display_data",
          "data": {
            "image/png": "[encoded data removed]",
            "text/plain": [
              "<Figure size 432x288 with 1 Axes>"
            ]
          },
          "metadata": {}
        }
      ]
    },
    {
      "cell_type": "markdown",
      "source": [
        "#2 Dictionaries\n",
        "\n",
        "I am about to create a dictionary that creates a relationship between $A$ and $B$.\n",
        "\n",
        "Here I am using the same resources as project 1 which has the names of characters from season one and season two.\n",
        "I will create a dictionaries between two sets namely A and B."
      ],
      "metadata": {
        "id": "GhQRQO-o6h1z"
      }
    },
    {
      "cell_type": "code",
      "source": [
        "A = ['Dolores Abernathy', 'Maeve Millay', 'Bernard Lowe', 'Teddy Flood', 'Sylvester', 'Felix Lutz' ]\n",
        "B = ['Dolores Abernathy', 'Maeve Millay', 'Bernard Lowe', 'Teddy Flood', 'Felix Lutz', 'Logan Delos' ]\n",
        "\n",
        "dictionary = dict({a:b for a,b in zip(A,B)})\n"
      ],
      "metadata": {
        "id": "c7J3q1H8M9_W"
      },
      "execution_count": 1,
      "outputs": []
    },
    {
      "cell_type": "markdown",
      "source": [
        "A quick way to create a dictionary between two arrays or sets. "
      ],
      "metadata": {
        "id": "8iH_ewVTNcwD"
      }
    },
    {
      "cell_type": "code",
      "source": [
        "dictionary"
      ],
      "metadata": {
        "colab": {
          "base_uri": "https://localhost:8080/"
        },
        "id": "uRdAgYkXNTK4",
        "outputId": "19e2e2dc-25e8-4915-d230-228c6d72cad3"
      },
      "execution_count": 2,
      "outputs": [
        {
          "output_type": "execute_result",
          "data": {
            "text/plain": [
              "{'Bernard Lowe': 'Bernard Lowe',\n",
              " 'Dolores Abernathy': 'Dolores Abernathy',\n",
              " 'Felix Lutz': 'Logan Delos',\n",
              " 'Maeve Millay': 'Maeve Millay',\n",
              " 'Sylvester': 'Felix Lutz',\n",
              " 'Teddy Flood': 'Teddy Flood'}"
            ]
          },
          "metadata": {},
          "execution_count": 2
        }
      ]
    },
    {
      "cell_type": "markdown",
      "source": [
        "Now I will try and create a dictionary manually which will help understand how to actually create a dictionary. These data does not make sense because they don't map to each other as key-value pairs. I am going to use a new data which makes it clear on how to use a python dictionary."
      ],
      "metadata": {
        "id": "lK0lT7NrNlWU"
      }
    },
    {
      "cell_type": "code",
      "source": [
        "dictNew = dict({'key1':'My', 'key2':'name', 'key3':'is', 'key4':'Aayush'})"
      ],
      "metadata": {
        "id": "oItCIVw7RvY2"
      },
      "execution_count": 3,
      "outputs": []
    },
    {
      "cell_type": "markdown",
      "source": [
        "Here I created a new dictionary called dictNew and provided it with my own key value pairs. Keys consist of number 1 through 4 whose value is the split string of My name is Aayush."
      ],
      "metadata": {
        "id": "UmC0FCXcSSxo"
      }
    },
    {
      "cell_type": "code",
      "source": [
        "newList = [dictNew.get(x,x) for x in dictNew]\n",
        "newList"
      ],
      "metadata": {
        "colab": {
          "base_uri": "https://localhost:8080/"
        },
        "id": "pFD7N3fgShzg",
        "outputId": "c99161df-a3ae-4d61-80fd-6269a049e7f0"
      },
      "execution_count": 6,
      "outputs": [
        {
          "output_type": "execute_result",
          "data": {
            "text/plain": [
              "['My', 'name', 'is', 'Aayush']"
            ]
          },
          "metadata": {},
          "execution_count": 6
        }
      ]
    }
  ]
}