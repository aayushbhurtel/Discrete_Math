{
  "nbformat": 4,
  "nbformat_minor": 0,
  "metadata": {
    "colab": {
      "name": "BhurtelAayush_CPSMA_3913_Project_6_Numbers.ipynb",
      "provenance": [],
      "authorship_tag": "ABX9TyMd/4+F4Y/fmqZWLtE5TfkL",
      "include_colab_link": true
    },
    "kernelspec": {
      "name": "python3",
      "display_name": "Python 3"
    },
    "language_info": {
      "name": "python"
    }
  },
  "cells": [
    {
      "cell_type": "markdown",
      "metadata": {
        "id": "view-in-github",
        "colab_type": "text"
      },
      "source": [
        "<a href=\"https://colab.research.google.com/github/aayushbhurtel/Discrete_Math/blob/main/BhurtelAayush_CPSMA_3913_Project_6_Numbers.ipynb\" target=\"_parent\"><img src=\"https://colab.research.google.com/assets/colab-badge.svg\" alt=\"Open In Colab\"/></a>"
      ]
    },
    {
      "cell_type": "markdown",
      "source": [
        "# **Project Module 6 : Numbers**\n",
        "\n",
        "CPSMA 3913. Discrete Mathematics\n",
        "\n",
        "Student: Aayush Bhurtel\n",
        "\n",
        "Instructor : Dr. Jacob"
      ],
      "metadata": {
        "id": "Knweaejkfk__"
      }
    },
    {
      "cell_type": "markdown",
      "source": [
        "here i am going to create a function which will allow me to pass an argument and calculate a result depending on conversion factor.\n",
        "\n"
      ],
      "metadata": {
        "id": "E8bAjRDLfyZW"
      }
    },
    {
      "cell_type": "code",
      "source": [
        "def convertToDecimal(num, baseFrom):\n",
        "  x  = list(str(num))\n",
        "  answer = 0\n",
        "  count = 1\n",
        "  # create a dict \n",
        "  assign = {'a': '10',\n",
        "            'b': '11',\n",
        "            'c': '12',\n",
        "            'd': '13',\n",
        "            'e': '14',\n",
        "            'f': '15'}\n",
        "  for i in num:\n",
        "    if i in assign:\n",
        "      i = assign.get(i)    \n",
        "    answer = answer + int(i) * (baseFrom**(len(num)- count))\n",
        "    count += 1\n",
        "  print(answer)\n",
        "\n",
        "def convertToHexa(number, baseFrom):\n",
        "  final = ''\n",
        "  # create a dict \n",
        "  assigns = {10: 'a',\n",
        "            11: 'b',\n",
        "            12: 'c',\n",
        "            13: 'd',\n",
        "            14: 'e',\n",
        "            15: 'f'}\n",
        "  num = int(number)\n",
        "  answer = []\n",
        "  while (num > 9):\n",
        "    result = int(num % 16)\n",
        "    answer.append(result)\n",
        "    num = num / 16\n",
        "  #print(answer)\n",
        "  for x in answer:\n",
        "    if x in assigns:\n",
        "      final = final + assigns.get(x)\n",
        "  print(final[::-1])\n",
        "\n",
        "\n"
      ],
      "metadata": {
        "id": "_WE8Oto0syFS"
      },
      "execution_count": 222,
      "outputs": []
    },
    {
      "cell_type": "markdown",
      "source": [
        "a) Convert the number 24036 of base 7 into base ten."
      ],
      "metadata": {
        "id": "8cLlzQvbAncl"
      }
    },
    {
      "cell_type": "code",
      "source": [
        "convertToDecimal('20',7)"
      ],
      "metadata": {
        "colab": {
          "base_uri": "https://localhost:8080/"
        },
        "id": "lqL8pqqAjVmI",
        "outputId": "24b09287-9254-43b9-f149-374ca54abbb0"
      },
      "execution_count": 182,
      "outputs": [
        {
          "output_type": "stream",
          "name": "stdout",
          "text": [
            "14\n"
          ]
        }
      ]
    },
    {
      "cell_type": "markdown",
      "source": [
        "(b) Convert the hexadecimal number 72e3 or 0x72e3 into base ten.\n"
      ],
      "metadata": {
        "id": "amJ8rN4nAwnZ"
      }
    },
    {
      "cell_type": "code",
      "source": [
        "convertToDecimal('72e3',16)"
      ],
      "metadata": {
        "colab": {
          "base_uri": "https://localhost:8080/"
        },
        "id": "jyNaH2MmjY_k",
        "outputId": "41147349-b514-426e-9aa4-7fa77e4494e9"
      },
      "execution_count": 183,
      "outputs": [
        {
          "output_type": "stream",
          "name": "stdout",
          "text": [
            "29411\n"
          ]
        }
      ]
    },
    {
      "cell_type": "markdown",
      "source": [
        "(c) Convert 3735928559 into hexadecimal.\n"
      ],
      "metadata": {
        "id": "KtFkLsILAz59"
      }
    },
    {
      "cell_type": "code",
      "source": [
        "convertToHexa(3735928559, 16)"
      ],
      "metadata": {
        "colab": {
          "base_uri": "https://localhost:8080/"
        },
        "id": "zIVxeFbN6rEG",
        "outputId": "e8a35ab1-68a4-4d22-d2dc-c6cc74d87382"
      },
      "execution_count": 223,
      "outputs": [
        {
          "output_type": "stream",
          "name": "stdout",
          "text": [
            "deadbeef\n"
          ]
        }
      ]
    },
    {
      "cell_type": "markdown",
      "source": [
        "(d) Using two’s complement preform the base ten subtraction 25 − 37. Check your answer."
      ],
      "metadata": {
        "id": "95sO9HX-BIoN"
      }
    },
    {
      "cell_type": "code",
      "source": [
        "# 25 in binary\n",
        "store = bin(25)\n",
        "print(store[2::])"
      ],
      "metadata": {
        "colab": {
          "base_uri": "https://localhost:8080/"
        },
        "id": "BYQvUiWBBJRE",
        "outputId": "bdae3008-56f1-436d-89e7-e6c20bed2702"
      },
      "execution_count": 235,
      "outputs": [
        {
          "output_type": "stream",
          "name": "stdout",
          "text": [
            "11001\n"
          ]
        }
      ]
    },
    {
      "cell_type": "code",
      "source": [
        "# 37 in binary\n",
        "print(bin(37)[2::])"
      ],
      "metadata": {
        "colab": {
          "base_uri": "https://localhost:8080/"
        },
        "id": "G3Htnm7aC9xT",
        "outputId": "e79ab832-73a7-40b5-f06c-4a80759bba3d"
      },
      "execution_count": 237,
      "outputs": [
        {
          "output_type": "stream",
          "name": "stdout",
          "text": [
            "100101\n"
          ]
        }
      ]
    },
    {
      "cell_type": "code",
      "source": [
        ""
      ],
      "metadata": {
        "colab": {
          "base_uri": "https://localhost:8080/"
        },
        "id": "ZYs7I3QlEwSe",
        "outputId": "6059d58d-9bfb-44f4-bed6-67a892fb72ed"
      },
      "execution_count": 243,
      "outputs": [
        {
          "output_type": "stream",
          "name": "stdout",
          "text": [
            "-37\n"
          ]
        }
      ]
    }
  ]
}