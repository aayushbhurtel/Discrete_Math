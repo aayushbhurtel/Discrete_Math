{
  "cells": [
    {
      "cell_type": "markdown",
      "metadata": {
        "colab_type": "text",
        "id": "view-in-github"
      },
      "source": [
        "<a href=\"https://colab.research.google.com/github/aayushbhurtel/Discrete_Math/blob/main/BhurtelAayush_CPSMA_3913_Project_6_Numbers.ipynb\" target=\"_parent\"><img src=\"https://colab.research.google.com/assets/colab-badge.svg\" alt=\"Open In Colab\"/></a>"
      ]
    },
    {
      "cell_type": "markdown",
      "metadata": {
        "id": "Knweaejkfk__"
      },
      "source": [
        "# **Project Module 6 : Numbers**\n",
        "\n",
        "CPSMA 3913. Discrete Mathematics\n",
        "\n",
        "Student: Aayush Bhurtel\n",
        "\n",
        "Instructor : Dr. Jacob"
      ]
    },
    {
      "cell_type": "markdown",
      "metadata": {
        "id": "E8bAjRDLfyZW"
      },
      "source": [
        "here i am going to create a function which will allow me to pass an argument and calculate a result depending on conversion factor.\n",
        "\n"
      ]
    },
    {
      "cell_type": "code",
      "execution_count": 222,
      "metadata": {
        "id": "_WE8Oto0syFS"
      },
      "outputs": [],
      "source": [
        "def convertToDecimal(num, baseFrom):\n",
        "  x  = list(str(num))\n",
        "  answer = 0\n",
        "  count = 1\n",
        "  # create a dict \n",
        "  assign = {'a': '10',\n",
        "            'b': '11',\n",
        "            'c': '12',\n",
        "            'd': '13',\n",
        "            'e': '14',\n",
        "            'f': '15'}\n",
        "  for i in num:\n",
        "    if i in assign:\n",
        "      i = assign.get(i)    \n",
        "    answer = answer + int(i) * (baseFrom**(len(num)- count))\n",
        "    count += 1\n",
        "  print(answer)\n",
        "\n",
        "def convertToHexa(number, baseFrom):\n",
        "  final = ''\n",
        "  # create a dict \n",
        "  assigns = {10: 'a',\n",
        "            11: 'b',\n",
        "            12: 'c',\n",
        "            13: 'd',\n",
        "            14: 'e',\n",
        "            15: 'f'}\n",
        "  num = int(number)\n",
        "  answer = []\n",
        "  while (num > 9):\n",
        "    result = int(num % 16)\n",
        "    answer.append(result)\n",
        "    num = num / 16\n",
        "  #print(answer)\n",
        "  for x in answer:\n",
        "    if x in assigns:\n",
        "      final = final + assigns.get(x)\n",
        "  print(final[::-1])\n",
        "\n",
        "\n"
      ]
    },
    {
      "cell_type": "markdown",
      "metadata": {
        "id": "8cLlzQvbAncl"
      },
      "source": [
        "a) Convert the number 24036 of base 7 into base ten."
      ]
    },
    {
      "cell_type": "code",
      "execution_count": 182,
      "metadata": {
        "colab": {
          "base_uri": "https://localhost:8080/"
        },
        "id": "lqL8pqqAjVmI",
        "outputId": "24b09287-9254-43b9-f149-374ca54abbb0"
      },
      "outputs": [
        {
          "name": "stdout",
          "output_type": "stream",
          "text": [
            "14\n"
          ]
        }
      ],
      "source": [
        "convertToDecimal('20',7)"
      ]
    },
    {
      "cell_type": "markdown",
      "metadata": {
        "id": "amJ8rN4nAwnZ"
      },
      "source": [
        "(b) Convert the hexadecimal number 72e3 or 0x72e3 into base ten.\n"
      ]
    },
    {
      "cell_type": "code",
      "execution_count": 183,
      "metadata": {
        "colab": {
          "base_uri": "https://localhost:8080/"
        },
        "id": "jyNaH2MmjY_k",
        "outputId": "41147349-b514-426e-9aa4-7fa77e4494e9"
      },
      "outputs": [
        {
          "name": "stdout",
          "output_type": "stream",
          "text": [
            "29411\n"
          ]
        }
      ],
      "source": [
        "convertToDecimal('72e3',16)"
      ]
    },
    {
      "cell_type": "markdown",
      "metadata": {
        "id": "KtFkLsILAz59"
      },
      "source": [
        "(c) Convert 3735928559 into hexadecimal.\n"
      ]
    },
    {
      "cell_type": "code",
      "execution_count": 223,
      "metadata": {
        "colab": {
          "base_uri": "https://localhost:8080/"
        },
        "id": "zIVxeFbN6rEG",
        "outputId": "e8a35ab1-68a4-4d22-d2dc-c6cc74d87382"
      },
      "outputs": [
        {
          "name": "stdout",
          "output_type": "stream",
          "text": [
            "deadbeef\n"
          ]
        }
      ],
      "source": [
        "convertToHexa(3735928559, 16)"
      ]
    },
    {
      "cell_type": "markdown",
      "metadata": {
        "id": "95sO9HX-BIoN"
      },
      "source": [
        "(d) Using two’s complement preform the base ten subtraction 25 − 37. Check your answer."
      ]
    },
    {
      "cell_type": "code",
      "execution_count": null,
      "metadata": {},
      "outputs": [],
      "source": [
        "# here I am using professor code to create a function which adds two's complement\n",
        "# I honestly tried to come up with my own but it is very difficult cause I am not fully aware about python workings on binary.\n",
        "\n",
        "def addone(list7binary):\n",
        "  counter = 7\n",
        "  list7binary[counter] = str(1 + int(list7binary[counter]))\n",
        "  while list7binary[counter]=='2':\n",
        "    list7binary[counter] = '0'\n",
        "    counter -= 1\n",
        "    list7binary[counter] = str(1 + int(list7binary[counter]))\n",
        "  return list7binary\n",
        "\n",
        "# here I am flipping those binary numbers\n",
        "\n",
        "def flipit(list7binary):\n",
        "  newlist = []\n",
        "  for i in list7binary:\n",
        "    if i == '0':\n",
        "      newlist.append('1')\n",
        "    else:\n",
        "      newlist.append('0')\n",
        "  return newlist\n",
        "\n",
        "# get two's complement of a number.\n",
        "\n",
        "def twoscomplement(x):\n",
        "  if not (x>-128)&(x<127):\n",
        "    return \"No Two's Complement\"\n",
        "  ans = '00000000'\n",
        "  ans = list(ans) #strings don't allow you to change them in place (immutable) but lists can be!\n",
        "  counter = 7\n",
        "  if x>=0:\n",
        "    while x != 0:\n",
        "      ans[counter] = str(x%2)\n",
        "      x = floor(x/2)\n",
        "      counter -= 1\n",
        "  if x<0:\n",
        "    x = abs(x)\n",
        "    while x != 0:\n",
        "      ans[counter] = str(x%2)\n",
        "      x = floor(x/2)\n",
        "      counter -= 1\n",
        "    ans = flipit(ans)\n",
        "    addone(ans)        \n",
        "  ans = ''.join(ans)\n",
        "  return ans\n",
        "\n",
        "  # I could not make this work and left as it is\n",
        "  # below is my calculations using built-in library"
      ]
    },
    {
      "cell_type": "code",
      "execution_count": 246,
      "metadata": {
        "colab": {
          "base_uri": "https://localhost:8080/"
        },
        "id": "kaFltgR-GPfw",
        "outputId": "7f22b7c6-c41e-4fea-ac90-82a483927ebd"
      },
      "outputs": [
        {
          "name": "stdout",
          "output_type": "stream",
          "text": [
            "-12\n"
          ]
        }
      ],
      "source": [
        "number1 = 25\n",
        "number2 = -37\n",
        " \n",
        " # we use ~ symbol to change a number into negative in binary so\n",
        "\n",
        "number2 = ~37\n",
        " # since we are doing one's complement so we add 1 at the end of a inverted negative number\n",
        "number2 = number2 +1\n",
        "\n",
        " # now 25 -37 means 25 + (-37) so\n",
        "result = number1 + number2\n",
        "print(result)"
      ]
    },
    {
      "cell_type": "markdown",
      "metadata": {
        "id": "j6M1hoq2HABV"
      },
      "source": [
        "a) Describe your findings in words.\n",
        "\n",
        "=> Doing this exercise help me understand more of the workings in python. casting, list, dictionary, assignment, binary and more operations.\n",
        "\n",
        "(b) Discuss why binary and hexadecimal are important to computers.\n",
        "\n",
        "=> The Hexadecimal system is commonly used in computer to reduce large strings of binary numbers into a sets of four digits which could be understoon easily to compute. If it was left with binary then there would be very big 0s and 1s which would be very difficult to even comprehend."
      ]
    }
  ],
  "metadata": {
    "colab": {
      "authorship_tag": "ABX9TyOFfsIMu1O+gs3ktf9mgG9P",
      "include_colab_link": true,
      "name": "BhurtelAayush_CPSMA_3913_Project_6_Numbers.ipynb",
      "provenance": []
    },
    "kernelspec": {
      "display_name": "Python 3",
      "name": "python3"
    },
    "language_info": {
      "name": "python"
    }
  },
  "nbformat": 4,
  "nbformat_minor": 0
}
