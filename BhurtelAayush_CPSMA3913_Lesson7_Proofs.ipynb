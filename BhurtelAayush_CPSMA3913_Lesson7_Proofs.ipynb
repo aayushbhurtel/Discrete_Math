{
  "nbformat": 4,
  "nbformat_minor": 0,
  "metadata": {
    "colab": {
      "name": "BhurtelAayush_CPSMA3913_Lesson7_Proofs.ipynb",
      "provenance": [],
      "authorship_tag": "ABX9TyOlHG0ekPoi13UXfL807/rK",
      "include_colab_link": true
    },
    "kernelspec": {
      "name": "python3",
      "display_name": "Python 3"
    },
    "language_info": {
      "name": "python"
    }
  },
  "cells": [
    {
      "cell_type": "markdown",
      "metadata": {
        "id": "view-in-github",
        "colab_type": "text"
      },
      "source": [
        "<a href=\"https://colab.research.google.com/github/aayushbhurtel/Discrete_Math/blob/main/BhurtelAayush_CPSMA3913_Lesson7_Proofs.ipynb\" target=\"_parent\"><img src=\"https://colab.research.google.com/assets/colab-badge.svg\" alt=\"Open In Colab\"/></a>"
      ]
    },
    {
      "cell_type": "markdown",
      "source": [
        "Create three propositions. I will describe them as p, r and q but you should use the name to\n",
        "describe the proposition! Discuss the truth value of each of these and decide on one that makes\n",
        "sense for you."
      ],
      "metadata": {
        "id": "BDwbWzOZ-Ah8"
      }
    },
    {
      "cell_type": "code",
      "execution_count": 3,
      "metadata": {
        "id": "BEbSAyKD4_AH"
      },
      "outputs": [],
      "source": [
        "willDevelopFitnessManagementSoftware = True  # == P\n",
        "willDoAnInternship = False  # == R\n",
        "WillWWIIIHappen = False  # == Q"
      ]
    },
    {
      "cell_type": "markdown",
      "source": [
        "Compute the truth of the statement (r ∧ p), (r ∨ ¬q) and (r ⇒ p)."
      ],
      "metadata": {
        "id": "eq-mszVL-LSB"
      }
    },
    {
      "cell_type": "code",
      "source": [
        "# (r ∧ p)\n",
        "print(willDoAnInternship and willDevelopFitnessManagementSoftware)\n",
        "\n",
        "# ¬q\n",
        "print(not(WillWWIIIHappen))\n",
        "\n",
        "# (r ∨ ¬q)\n",
        "print(willDoAnInternship or not(WillWWIIIHappen))\n",
        "\n",
        "# (r ⇒ p)\n",
        "# since (r -> p) is same as (¬r v p)\n",
        "print(not(willDoAnInternship) or willDevelopFitnessManagementSoftware)"
      ],
      "metadata": {
        "colab": {
          "base_uri": "https://localhost:8080/"
        },
        "id": "vBhw-RGo-5LH",
        "outputId": "d2f08fe1-e296-4685-a6f2-5a9eee90cb84"
      },
      "execution_count": 4,
      "outputs": [
        {
          "output_type": "stream",
          "name": "stdout",
          "text": [
            "False\n",
            "True\n",
            "True\n",
            "True\n"
          ]
        }
      ]
    },
    {
      "cell_type": "markdown",
      "source": [
        "Compute a complete truth table for ¬ (r ⊕ p) ⇒ (p ∨ q)"
      ],
      "metadata": {
        "id": "AVSpXn_IELjb"
      }
    },
    {
      "cell_type": "markdown",
      "source": [
        "Here I am using a python library called truth-table-generator which will generate a truth table for me in a tablulated format. \n",
        "\n",
        "Firstly, i'm installing truth table generator from python libraries using pip. and then I will be generating a truth table based on my propositions."
      ],
      "metadata": {
        "id": "_WAK9dNKENTb"
      }
    },
    {
      "cell_type": "code",
      "source": [
        "pip install truth-table-Generator"
      ],
      "metadata": {
        "colab": {
          "base_uri": "https://localhost:8080/"
        },
        "id": "R8SileRiEhKf",
        "outputId": "b69dfebf-8e6e-461b-ed55-e742be5197bf"
      },
      "execution_count": 5,
      "outputs": [
        {
          "output_type": "stream",
          "name": "stdout",
          "text": [
            "Collecting truth-table-Generator\n",
            "  Downloading truth_table_generator-1.1.2.tar.gz (14 kB)\n",
            "Requirement already satisfied: numpy in /usr/local/lib/python3.7/dist-packages (from truth-table-Generator) (1.21.5)\n",
            "Requirement already satisfied: pandas in /usr/local/lib/python3.7/dist-packages (from truth-table-Generator) (1.3.5)\n",
            "Collecting PTable\n",
            "  Downloading PTable-0.9.2.tar.gz (31 kB)\n",
            "Requirement already satisfied: pyparsing in /usr/local/lib/python3.7/dist-packages (from truth-table-Generator) (3.0.7)\n",
            "Requirement already satisfied: tabulate in /usr/local/lib/python3.7/dist-packages (from truth-table-Generator) (0.8.9)\n",
            "Requirement already satisfied: jinja2 in /usr/local/lib/python3.7/dist-packages (from truth-table-Generator) (2.11.3)\n",
            "Requirement already satisfied: MarkupSafe>=0.23 in /usr/local/lib/python3.7/dist-packages (from jinja2->truth-table-Generator) (2.0.1)\n",
            "Requirement already satisfied: python-dateutil>=2.7.3 in /usr/local/lib/python3.7/dist-packages (from pandas->truth-table-Generator) (2.8.2)\n",
            "Requirement already satisfied: pytz>=2017.3 in /usr/local/lib/python3.7/dist-packages (from pandas->truth-table-Generator) (2018.9)\n",
            "Requirement already satisfied: six>=1.5 in /usr/local/lib/python3.7/dist-packages (from python-dateutil>=2.7.3->pandas->truth-table-Generator) (1.15.0)\n",
            "Building wheels for collected packages: truth-table-Generator, PTable\n",
            "  Building wheel for truth-table-Generator (setup.py) ... \u001b[?25l\u001b[?25hdone\n",
            "  Created wheel for truth-table-Generator: filename=truth_table_generator-1.1.2-py3-none-any.whl size=13960 sha256=e5aa8200700261f55faae4b04effce02c6dd244c9cbe3a14415987f15439bfa2\n",
            "  Stored in directory: /root/.cache/pip/wheels/9a/55/b5/77f5756832494eafda92c7a94c1365ac31088a18a3a97dd480\n",
            "  Building wheel for PTable (setup.py) ... \u001b[?25l\u001b[?25hdone\n",
            "  Created wheel for PTable: filename=PTable-0.9.2-py3-none-any.whl size=22925 sha256=cb4d6c3add6270ffaf3d8d8a6de5a2ed140c6a3e73a281e7cb412b1f2ca4f11c\n",
            "  Stored in directory: /root/.cache/pip/wheels/33/df/2f/674985b3f8a2de3f96357d1eadef5110f74fa91b3785e52a54\n",
            "Successfully built truth-table-Generator PTable\n",
            "Installing collected packages: PTable, truth-table-Generator\n",
            "Successfully installed PTable-0.9.2 truth-table-Generator-1.1.2\n"
          ]
        }
      ]
    },
    {
      "cell_type": "code",
      "source": [
        "import ttg\n",
        "print(ttg.Truths(['willDevelopFitnessManagementSoftware','WillWWIIIHappen','willDoAnInternship'],['not(willDoAnInternship xor willDevelopFitnessManagementSoftware)', 'not(willDoAnInternship xor willDevelopFitnessManagementSoftware) => (willDevelopFitnessManagementSoftware or WillWWIIIHappen)' ]))"
      ],
      "metadata": {
        "colab": {
          "base_uri": "https://localhost:8080/"
        },
        "id": "tBkfnEDjEr9h",
        "outputId": "1fa428ab-9554-4c1b-89fd-fb7a88e8cc0c"
      },
      "execution_count": 6,
      "outputs": [
        {
          "output_type": "stream",
          "name": "stdout",
          "text": [
            "+----------------------------------------+-------------------+----------------------+--------------------------------------------------------------------+---------------------------------------------------------------------------------------------------------------------------------+\n",
            "|  willDevelopFitnessManagementSoftware  |  WillWWIIIHappen  |  willDoAnInternship  |  not(willDoAnInternship xor willDevelopFitnessManagementSoftware)  |  not(willDoAnInternship xor willDevelopFitnessManagementSoftware) => (willDevelopFitnessManagementSoftware or WillWWIIIHappen)  |\n",
            "|----------------------------------------+-------------------+----------------------+--------------------------------------------------------------------+---------------------------------------------------------------------------------------------------------------------------------|\n",
            "|                   1                    |         1         |          1           |                                 1                                  |                                                                1                                                                |\n",
            "|                   1                    |         1         |          0           |                                 0                                  |                                                                1                                                                |\n",
            "|                   1                    |         0         |          1           |                                 1                                  |                                                                1                                                                |\n",
            "|                   1                    |         0         |          0           |                                 0                                  |                                                                1                                                                |\n",
            "|                   0                    |         1         |          1           |                                 0                                  |                                                                1                                                                |\n",
            "|                   0                    |         1         |          0           |                                 1                                  |                                                                1                                                                |\n",
            "|                   0                    |         0         |          1           |                                 0                                  |                                                                1                                                                |\n",
            "|                   0                    |         0         |          0           |                                 1                                  |                                                                0                                                                |\n",
            "+----------------------------------------+-------------------+----------------------+--------------------------------------------------------------------+---------------------------------------------------------------------------------------------------------------------------------+\n"
          ]
        }
      ]
    },
    {
      "cell_type": "markdown",
      "source": [
        "since this table is big, I am renaming my propositions so that viewing table would be easier."
      ],
      "metadata": {
        "id": "US2t_uahMd1L"
      }
    },
    {
      "cell_type": "code",
      "source": [
        "willDevelopFitnessManagementSoftware = WDFMS = True  # == P\n",
        "willDoAnInternship = WDAI = False  # == R\n",
        "WillWWIIIHappen = WWWIIIH = False  # == Q"
      ],
      "metadata": {
        "id": "7s9asTSTN3PI"
      },
      "execution_count": 7,
      "outputs": []
    },
    {
      "cell_type": "code",
      "source": [
        "# truth table\n",
        "\n",
        "print(ttg.Truths(['WDFMS','WWWIIIH','WDAI'],['not(WDAI xor WDFMS)', 'not(WDAI xor WDFMS) => (WDFMS or WWWIIIH)']))"
      ],
      "metadata": {
        "colab": {
          "base_uri": "https://localhost:8080/"
        },
        "id": "jFoDPr9ZOJ3e",
        "outputId": "48cc534f-b680-4232-9594-956e4da13a60"
      },
      "execution_count": 8,
      "outputs": [
        {
          "output_type": "stream",
          "name": "stdout",
          "text": [
            "+---------+-----------+--------+-----------------------+---------------------------------------------+\n",
            "|  WDFMS  |  WWWIIIH  |  WDAI  |  not(WDAI xor WDFMS)  |  not(WDAI xor WDFMS) => (WDFMS or WWWIIIH)  |\n",
            "|---------+-----------+--------+-----------------------+---------------------------------------------|\n",
            "|    1    |     1     |   1    |           1           |                      1                      |\n",
            "|    1    |     1     |   0    |           0           |                      1                      |\n",
            "|    1    |     0     |   1    |           1           |                      1                      |\n",
            "|    1    |     0     |   0    |           0           |                      1                      |\n",
            "|    0    |     1     |   1    |           0           |                      1                      |\n",
            "|    0    |     1     |   0    |           1           |                      1                      |\n",
            "|    0    |     0     |   1    |           0           |                      1                      |\n",
            "|    0    |     0     |   0    |           1           |                      0                      |\n",
            "+---------+-----------+--------+-----------------------+---------------------------------------------+\n"
          ]
        }
      ]
    },
    {
      "cell_type": "markdown",
      "source": [
        "here I am going to change my binary values into TRUE and FALSE values by disabiling ints using False value."
      ],
      "metadata": {
        "id": "OhqlUj9PvbON"
      }
    },
    {
      "cell_type": "code",
      "source": [
        "print(ttg.Truths(['WDFMS','WWWIIIH','WDAI'],['not(WDAI xor WDFMS)', 'not(WDAI xor WDFMS) => (WDFMS or WWWIIIH)'], ints = False))"
      ],
      "metadata": {
        "colab": {
          "base_uri": "https://localhost:8080/"
        },
        "id": "_8GRGKaDvQ2D",
        "outputId": "58ac69ca-3829-42c9-dde8-522adf6ebf0c"
      },
      "execution_count": 9,
      "outputs": [
        {
          "output_type": "stream",
          "name": "stdout",
          "text": [
            "+---------+-----------+--------+-----------------------+---------------------------------------------+\n",
            "|  WDFMS  |  WWWIIIH  |  WDAI  |  not(WDAI xor WDFMS)  |  not(WDAI xor WDFMS) => (WDFMS or WWWIIIH)  |\n",
            "|---------+-----------+--------+-----------------------+---------------------------------------------|\n",
            "|  True   |   True    |  True  |         True          |                    True                     |\n",
            "|  True   |   True    | False  |         False         |                    True                     |\n",
            "|  True   |   False   |  True  |         True          |                    True                     |\n",
            "|  True   |   False   | False  |         False         |                    True                     |\n",
            "|  False  |   True    |  True  |         False         |                    True                     |\n",
            "|  False  |   True    | False  |         True          |                    True                     |\n",
            "|  False  |   False   |  True  |         False         |                    True                     |\n",
            "|  False  |   False   | False  |         True          |                    False                    |\n",
            "+---------+-----------+--------+-----------------------+---------------------------------------------+\n"
          ]
        }
      ]
    },
    {
      "cell_type": "markdown",
      "source": [
        "(a) Describe your findings in words.\n",
        "\n",
        "=> Truth table is displayed above where,  ¬ (r ⊕ p) ⇒ (p ∨ q) was almost a tautology but the last row happenend to be false so its neither tautology nor contradiction. Instead, it is contingency.\n",
        "\n",
        "(b) Properly describe your propositions and discuss what it means to combine them in terms of the\n",
        "original statements\n",
        "\n",
        "=> my propositions was whether I will develop a fitness management software application which is set to true, will I be able to do an internship in summer and I think I will probably not so its value is false. Lastly, I had a proposition on whether World War III would occur and I set its value to false."
      ],
      "metadata": {
        "id": "5Um_Q1bMOkV7"
      }
    }
  ]
}