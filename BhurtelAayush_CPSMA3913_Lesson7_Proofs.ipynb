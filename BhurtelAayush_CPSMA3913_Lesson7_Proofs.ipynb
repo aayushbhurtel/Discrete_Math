{
  "nbformat": 4,
  "nbformat_minor": 0,
  "metadata": {
    "colab": {
      "name": "BhurtelAayush_CPSMA3913_Lesson7_Proofs.ipynb",
      "provenance": [],
      "authorship_tag": "ABX9TyOGTcSn3zxEZ8/23f3zDGWg",
      "include_colab_link": true
    },
    "kernelspec": {
      "name": "python3",
      "display_name": "Python 3"
    },
    "language_info": {
      "name": "python"
    }
  },
  "cells": [
    {
      "cell_type": "markdown",
      "metadata": {
        "id": "view-in-github",
        "colab_type": "text"
      },
      "source": [
        "<a href=\"https://colab.research.google.com/github/aayushbhurtel/Discrete_Math/blob/main/BhurtelAayush_CPSMA3913_Lesson7_Proofs.ipynb\" target=\"_parent\"><img src=\"https://colab.research.google.com/assets/colab-badge.svg\" alt=\"Open In Colab\"/></a>"
      ]
    },
    {
      "cell_type": "markdown",
      "source": [
        "Create three propositions. I will describe them as p, r and q but you should use the name to\n",
        "describe the proposition! Discuss the truth value of each of these and decide on one that makes\n",
        "sense for you."
      ],
      "metadata": {
        "id": "BDwbWzOZ-Ah8"
      }
    },
    {
      "cell_type": "code",
      "execution_count": 5,
      "metadata": {
        "id": "BEbSAyKD4_AH"
      },
      "outputs": [],
      "source": [
        "willDevelopFitnessManagementSoftware = True  # == P\n",
        "willDoAnInternship = False  # == R\n",
        "WillWWIIIHappen = False  # == Q"
      ]
    },
    {
      "cell_type": "markdown",
      "source": [
        "Compute the truth of the statement (r ∧ p), (r ∨ ¬q) and (r ⇒ p)."
      ],
      "metadata": {
        "id": "eq-mszVL-LSB"
      }
    },
    {
      "cell_type": "code",
      "source": [
        "# (r ∧ p)\n",
        "print(willDoAnInternship and willDevelopFitnessManagementSoftware)\n",
        "\n",
        "# ¬q\n",
        "print(not(WillWWIIIHappen))\n",
        "\n",
        "# (r ∨ ¬q)\n",
        "print(willDoAnInternship or not(WillWWIIIHappen))\n",
        "\n",
        "# (r ⇒ p)\n",
        "# since (r -> p) is same as (¬r v p)\n",
        "print(not(willDoAnInternship) or willDevelopFitnessManagementSoftware)"
      ],
      "metadata": {
        "colab": {
          "base_uri": "https://localhost:8080/"
        },
        "id": "vBhw-RGo-5LH",
        "outputId": "9d03de50-97cd-48d0-f72a-6424cd1de6dd"
      },
      "execution_count": 9,
      "outputs": [
        {
          "output_type": "stream",
          "name": "stdout",
          "text": [
            "False\n",
            "True\n",
            "True\n",
            "True\n"
          ]
        }
      ]
    },
    {
      "cell_type": "markdown",
      "source": [
        "Compute a complete truth table for ¬ (r ⊕ p) ⇒ (p ∨ q)"
      ],
      "metadata": {
        "id": "AVSpXn_IELjb"
      }
    },
    {
      "cell_type": "markdown",
      "source": [
        "Here I am using a python library called truth-table-generator which will generate a truth table for me in a tablulated format. \n",
        "\n",
        "Firstly, i'm installing truth table generator from python libraries using pip. and then I will be generating a truth table based on my propositions."
      ],
      "metadata": {
        "id": "_WAK9dNKENTb"
      }
    },
    {
      "cell_type": "code",
      "source": [
        "pip install truth-table-Generator"
      ],
      "metadata": {
        "colab": {
          "base_uri": "https://localhost:8080/"
        },
        "id": "R8SileRiEhKf",
        "outputId": "281cd904-a0c6-49ff-d54f-4f54f814eea0"
      },
      "execution_count": 29,
      "outputs": [
        {
          "output_type": "stream",
          "name": "stdout",
          "text": [
            "Requirement already satisfied: truth-table-Generator in /usr/local/lib/python3.7/dist-packages (1.1.2)\n",
            "Requirement already satisfied: jinja2 in /usr/local/lib/python3.7/dist-packages (from truth-table-Generator) (2.11.3)\n",
            "Requirement already satisfied: pyparsing in /usr/local/lib/python3.7/dist-packages (from truth-table-Generator) (3.0.7)\n",
            "Requirement already satisfied: numpy in /usr/local/lib/python3.7/dist-packages (from truth-table-Generator) (1.21.5)\n",
            "Requirement already satisfied: tabulate in /usr/local/lib/python3.7/dist-packages (from truth-table-Generator) (0.8.9)\n",
            "Requirement already satisfied: PTable in /usr/local/lib/python3.7/dist-packages (from truth-table-Generator) (0.9.2)\n",
            "Requirement already satisfied: pandas in /usr/local/lib/python3.7/dist-packages (from truth-table-Generator) (1.3.5)\n",
            "Requirement already satisfied: MarkupSafe>=0.23 in /usr/local/lib/python3.7/dist-packages (from jinja2->truth-table-Generator) (2.0.1)\n",
            "Requirement already satisfied: pytz>=2017.3 in /usr/local/lib/python3.7/dist-packages (from pandas->truth-table-Generator) (2018.9)\n",
            "Requirement already satisfied: python-dateutil>=2.7.3 in /usr/local/lib/python3.7/dist-packages (from pandas->truth-table-Generator) (2.8.2)\n",
            "Requirement already satisfied: six>=1.5 in /usr/local/lib/python3.7/dist-packages (from python-dateutil>=2.7.3->pandas->truth-table-Generator) (1.15.0)\n"
          ]
        }
      ]
    },
    {
      "cell_type": "code",
      "source": [
        "import ttg\n",
        "print(ttg.Truths(['willDevelopFitnessManagementSoftware','WillWWIIIHappen','willDoAnInternship'],['not(willDoAnInternship xor willDevelopFitnessManagementSoftware)', 'not(willDoAnInternship xor willDevelopFitnessManagementSoftware) => (willDevelopFitnessManagementSoftware or WillWWIIIHappen)' ]))"
      ],
      "metadata": {
        "colab": {
          "base_uri": "https://localhost:8080/"
        },
        "id": "tBkfnEDjEr9h",
        "outputId": "79f3f8f9-c581-4bb1-daee-363ab5ea8567"
      },
      "execution_count": 27,
      "outputs": [
        {
          "output_type": "stream",
          "name": "stdout",
          "text": [
            "+----------------------------------------+-------------------+----------------------+--------------------------------------------------------------------+---------------------------------------------------------------------------------------------------------------------------------+\n",
            "|  willDevelopFitnessManagementSoftware  |  WillWWIIIHappen  |  willDoAnInternship  |  not(willDoAnInternship xor willDevelopFitnessManagementSoftware)  |  not(willDoAnInternship xor willDevelopFitnessManagementSoftware) => (willDevelopFitnessManagementSoftware or WillWWIIIHappen)  |\n",
            "|----------------------------------------+-------------------+----------------------+--------------------------------------------------------------------+---------------------------------------------------------------------------------------------------------------------------------|\n",
            "|                   1                    |         1         |          1           |                                 1                                  |                                                                1                                                                |\n",
            "|                   1                    |         1         |          0           |                                 0                                  |                                                                1                                                                |\n",
            "|                   1                    |         0         |          1           |                                 1                                  |                                                                1                                                                |\n",
            "|                   1                    |         0         |          0           |                                 0                                  |                                                                1                                                                |\n",
            "|                   0                    |         1         |          1           |                                 0                                  |                                                                1                                                                |\n",
            "|                   0                    |         1         |          0           |                                 1                                  |                                                                1                                                                |\n",
            "|                   0                    |         0         |          1           |                                 0                                  |                                                                1                                                                |\n",
            "|                   0                    |         0         |          0           |                                 1                                  |                                                                0                                                                |\n",
            "+----------------------------------------+-------------------+----------------------+--------------------------------------------------------------------+---------------------------------------------------------------------------------------------------------------------------------+\n"
          ]
        }
      ]
    },
    {
      "cell_type": "markdown",
      "source": [
        "since this table is big, I am renaming my propositions so that viewing table would be easier."
      ],
      "metadata": {
        "id": "US2t_uahMd1L"
      }
    },
    {
      "cell_type": "code",
      "source": [
        "willDevelopFitnessManagementSoftware = WDFMS = True  # == P\n",
        "willDoAnInternship = WDAI = False  # == R\n",
        "WillWWIIIHappen = WWWIIIH = False  # == Q"
      ],
      "metadata": {
        "id": "7s9asTSTN3PI"
      },
      "execution_count": null,
      "outputs": []
    },
    {
      "cell_type": "code",
      "source": [
        "# truth table\n",
        "\n",
        "print(ttg.Truths(['WDFMS','WWWIIIH','WDAI'],['not(WDAI xor WDFMS)', 'not(WDAI xor WDFMS) => (WDFMS or WWWIIIH)']))"
      ],
      "metadata": {
        "colab": {
          "base_uri": "https://localhost:8080/"
        },
        "id": "jFoDPr9ZOJ3e",
        "outputId": "88c35203-7003-4c5d-c50b-831a4ec6745e"
      },
      "execution_count": 28,
      "outputs": [
        {
          "output_type": "stream",
          "name": "stdout",
          "text": [
            "+---------+-----------+--------+-----------------------+---------------------------------------------+\n",
            "|  WDFMS  |  WWWIIIH  |  WDAI  |  not(WDAI xor WDFMS)  |  not(WDAI xor WDFMS) => (WDFMS or WWWIIIH)  |\n",
            "|---------+-----------+--------+-----------------------+---------------------------------------------|\n",
            "|    1    |     1     |   1    |           1           |                      1                      |\n",
            "|    1    |     1     |   0    |           0           |                      1                      |\n",
            "|    1    |     0     |   1    |           1           |                      1                      |\n",
            "|    1    |     0     |   0    |           0           |                      1                      |\n",
            "|    0    |     1     |   1    |           0           |                      1                      |\n",
            "|    0    |     1     |   0    |           1           |                      1                      |\n",
            "|    0    |     0     |   1    |           0           |                      1                      |\n",
            "|    0    |     0     |   0    |           1           |                      0                      |\n",
            "+---------+-----------+--------+-----------------------+---------------------------------------------+\n"
          ]
        }
      ]
    },
    {
      "cell_type": "markdown",
      "source": [
        "(a) Describe your findings in words.\n",
        "\n",
        "=> Truth table is displayed above where,  ¬ (r ⊕ p) ⇒ (p ∨ q) was almost a tautology but the last row happenend to be false so its neither tautology nor contradiction. Instead, it is contingency.\n",
        "\n",
        "(b) Properly describe your propositions and discuss what it means to combine them in terms of the\n",
        "original statements\n",
        "\n",
        "=> my propositions was whether I will develop a fitness management software application which is set to true, will I be able to do an internship in summer and I think I will probably not so its value is false. Lastly, I had a proposition on whether World War III would occur and I set its value to false."
      ],
      "metadata": {
        "id": "5Um_Q1bMOkV7"
      }
    }
  ]
}