{
  "nbformat": 4,
  "nbformat_minor": 0,
  "metadata": {
    "colab": {
      "name": "BhurtelAayush_CPSMA3913_Lesson4_Counting.ipynb",
      "provenance": [],
      "authorship_tag": "ABX9TyPJoGr1x4CPf0GSsYEzF1Yp",
      "include_colab_link": true
    },
    "kernelspec": {
      "name": "python3",
      "display_name": "Python 3"
    },
    "language_info": {
      "name": "python"
    }
  },
  "cells": [
    {
      "cell_type": "markdown",
      "metadata": {
        "id": "view-in-github",
        "colab_type": "text"
      },
      "source": [
        "<a href=\"https://colab.research.google.com/github/aayushbhurtel/Discrete_Math/blob/main/BhurtelAayush_CPSMA3913_Lesson4_Counting.ipynb\" target=\"_parent\"><img src=\"https://colab.research.google.com/assets/colab-badge.svg\" alt=\"Open In Colab\"/></a>"
      ]
    },
    {
      "cell_type": "markdown",
      "source": [
        "# Data Visualization\n",
        "\n",
        "# Aayush Bhurtel\n",
        "\n",
        "Discete Math\n",
        "\n",
        "Project 4"
      ],
      "metadata": {
        "id": "7SkZCp1wwhxJ"
      }
    },
    {
      "cell_type": "markdown",
      "source": [
        "![istockphoto-1046943634-612x612.jpg](data:image/jpeg;base64,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)"
      ],
      "metadata": {
        "id": "GY3V9LbBwy6m"
      }
    },
    {
      "cell_type": "markdown",
      "source": [
        "Here I am dealing with 4 aces in a deck of cards."
      ],
      "metadata": {
        "id": "XkWDsSk7kOnc"
      }
    },
    {
      "cell_type": "code",
      "execution_count": null,
      "metadata": {
        "id": "WkDbwjjwqItK"
      },
      "outputs": [],
      "source": [
        "possibleOutcomes = ['AceOfClub', 'AceOfDiamond', 'AceOfHeart', 'AceOfSpade']"
      ]
    },
    {
      "cell_type": "markdown",
      "source": [
        "there are four outcomes in one simulation. if there is 10 simulations then there will be  $$ 4*4*4..*4 = 4^{10} $$\n",
        "converting above into code, I get"
      ],
      "metadata": {
        "id": "Zf2X6M4PxRZv"
      }
    },
    {
      "cell_type": "code",
      "source": [
        "4**10"
      ],
      "metadata": {
        "id": "FPgOYi5gxPO_",
        "colab": {
          "base_uri": "https://localhost:8080/"
        },
        "outputId": "63e40864-9497-43a1-d6a3-efb5d01bd4f5"
      },
      "execution_count": null,
      "outputs": [
        {
          "output_type": "execute_result",
          "data": {
            "text/plain": [
              "1048576"
            ]
          },
          "metadata": {},
          "execution_count": 2
        }
      ]
    },
    {
      "cell_type": "markdown",
      "source": [
        "there would be 1048576 outcomes if the simulation is done in a particular order.\n",
        "\n",
        "Now, we will look at outcome where the order did not matter. since, there are 10 spots for 4 objects. we need to use more complicated formula to count the number of outcomes. For this, the general formula is,\n",
        "\n",
        "$$\n",
        "\\frac{(n + k -1)!}{n! * (k-1)!}\n",
        "$$\n",
        "\n",
        "writing this in code we get:"
      ],
      "metadata": {
        "id": "tgckcygWmY-5"
      }
    },
    {
      "cell_type": "code",
      "source": [
        "import math\n",
        "\n",
        "math.factorial(13)/(math.factorial(10)*math.factorial(3))"
      ],
      "metadata": {
        "colab": {
          "base_uri": "https://localhost:8080/"
        },
        "id": "SRT2eRyNlji-",
        "outputId": "a4814a84-937b-4ac4-8411-2c1956539c10"
      },
      "execution_count": null,
      "outputs": [
        {
          "output_type": "execute_result",
          "data": {
            "text/plain": [
              "286.0"
            ]
          },
          "metadata": {},
          "execution_count": 3
        }
      ]
    },
    {
      "cell_type": "markdown",
      "source": [
        "if the order did not matter then there would be 286 outcomes. "
      ],
      "metadata": {
        "id": "oefQhQh3qkHI"
      }
    },
    {
      "cell_type": "markdown",
      "source": [
        "# (c) How many outcomes were possible if you were not allowed to select an item multiple times.. \n",
        "\n",
        "since there is no replacement and order does matter (permutation) then we can do following,\n",
        "\n",
        "10 * 9 * 8 * 7 =  5040 \n",
        "\n",
        "using formula,\n",
        "\n",
        "$$ \\frac{n!}{(n-k)!} $$"
      ],
      "metadata": {
        "id": "eDP4h8UzrAFJ"
      }
    },
    {
      "cell_type": "code",
      "source": [
        "math.factorial(10)/math.factorial(6)"
      ],
      "metadata": {
        "colab": {
          "base_uri": "https://localhost:8080/"
        },
        "id": "Z0I1erDDrvzj",
        "outputId": "853523c2-f120-4ac8-98d2-82cf7bbf6dda"
      },
      "execution_count": null,
      "outputs": [
        {
          "output_type": "execute_result",
          "data": {
            "text/plain": [
              "5040.0"
            ]
          },
          "metadata": {},
          "execution_count": 6
        }
      ]
    },
    {
      "cell_type": "markdown",
      "source": [
        "Now we do the same thing where order does not matter (combinations),\n",
        "\n",
        "$$ \n",
        "\\frac{n!}{k! * (n - k)!}\n",
        "$$"
      ],
      "metadata": {
        "id": "Ev27HaEas5WE"
      }
    },
    {
      "cell_type": "code",
      "source": [
        "math.factorial(10)/ (math.factorial(4) * math.factorial(6))"
      ],
      "metadata": {
        "colab": {
          "base_uri": "https://localhost:8080/"
        },
        "id": "A_IiSRmcryPw",
        "outputId": "f13da3c5-7a6e-446b-b07e-9edd9e81a8ac"
      },
      "execution_count": null,
      "outputs": [
        {
          "output_type": "execute_result",
          "data": {
            "text/plain": [
              "210.0"
            ]
          },
          "metadata": {},
          "execution_count": 7
        }
      ]
    },
    {
      "cell_type": "markdown",
      "source": [
        "Therefore, when order does matter and there is no replacement, we get 210 outcomes."
      ],
      "metadata": {
        "id": "Be6-AxIqtZPL"
      }
    },
    {
      "cell_type": "markdown",
      "source": [
        "# What is the coefficent of the 5th order of $$ (x − 3)^9? $$\n",
        "\n",
        "okay, for this question I am using a external resource to solve this problem.\n",
        "\n",
        "https://www.tutorialspoint.com/sympy/sympy_simplification.htm\n",
        "\n",
        "I got this library called sympy which will expand the given polynomial so that I could figure out the coefficent of 5th order."
      ],
      "metadata": {
        "id": "DMS75b5htg-h"
      }
    },
    {
      "cell_type": "code",
      "source": [
        "# import sympy library\n",
        "from sympy import *\n",
        "  \n",
        "x = Symbol('x')\n",
        "expand((x-3)**9)"
      ],
      "metadata": {
        "colab": {
          "base_uri": "https://localhost:8080/",
          "height": 38
        },
        "id": "QhyLnE8_tXFW",
        "outputId": "b7c62eeb-88d5-4785-d300-afb2dbebc6ff"
      },
      "execution_count": null,
      "outputs": [
        {
          "output_type": "execute_result",
          "data": {
            "text/latex": "$\\displaystyle x^{9} - 27 x^{8} + 324 x^{7} - 2268 x^{6} + 10206 x^{5} - 30618 x^{4} + 61236 x^{3} - 78732 x^{2} + 59049 x - 19683$",
            "text/plain": [
              "x**9 - 27*x**8 + 324*x**7 - 2268*x**6 + 10206*x**5 - 30618*x**4 + 61236*x**3 - 78732*x**2 + 59049*x - 19683"
            ]
          },
          "metadata": {},
          "execution_count": 12
        }
      ]
    },
    {
      "cell_type": "markdown",
      "source": [
        "using expand method from sympy library I could expand this polynomial and the required 5th coefficient is 10206."
      ],
      "metadata": {
        "id": "zyC0uEqv1U2f"
      }
    },
    {
      "cell_type": "markdown",
      "source": [
        "# Answer\n",
        "(a) Describe your findings in words.\n",
        "=> \n",
        "\n",
        "(b) If you were unable to code something discuss what the difficulty was and why doing it by hand was easier.\n",
        "\n",
        "(c) Why are all these outcomes different?"
      ],
      "metadata": {
        "id": "fRfXe4IQQMmv"
      }
    },
    {
      "cell_type": "code",
      "source": [
        ""
      ],
      "metadata": {
        "id": "muo4ajtw05sB"
      },
      "execution_count": null,
      "outputs": []
    }
  ]
}